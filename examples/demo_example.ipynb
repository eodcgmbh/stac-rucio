{
 "cells": [
  {
   "cell_type": "markdown",
   "metadata": {},
   "source": [
    "#### STAC Rucio - Non-Deterministic Rucio Storage Elements demo\n",
    "\n",
    "This notebook demonstrates the workflow for using the stac_rucio package to register data at a non-deterministic Rucio Storage Element, and the basic management of replication rules to move data from that location to other Rucio Storage Elements ( RSE ).\n",
    "\n",
    "The RSE \"EODC-DATA\" was prepared as our non-deterministic Rucio Storage Element, and data will be replicated to \"DESY-DCACHE\"."
   ]
  },
  {
   "cell_type": "code",
   "execution_count": null,
   "metadata": {},
   "outputs": [],
   "source": [
    "from stac_rucio.client import StacClient\n",
    "\n",
    "# STAC Rucio client, connects to Rucio and defines a replication target for the client.\n",
    "stac_rucio = StacClient()"
   ]
  },
  {
   "cell_type": "code",
   "execution_count": 2,
   "metadata": {},
   "outputs": [
    {
     "ename": "NameError",
     "evalue": "name 'stac_rucio' is not defined",
     "output_type": "error",
     "traceback": [
      "\u001b[0;31m---------------------------------------------------------------------------\u001b[0m",
      "\u001b[0;31mNameError\u001b[0m                                 Traceback (most recent call last)",
      "Cell \u001b[0;32mIn[2], line 6\u001b[0m\n\u001b[1;32m      1\u001b[0m \u001b[38;5;28;01mfrom\u001b[39;00m \u001b[38;5;21;01mpystac_client\u001b[39;00m \u001b[38;5;28;01mimport\u001b[39;00m Client\n\u001b[1;32m      3\u001b[0m \u001b[38;5;66;03m# STAC client connection, with a modifier for updating items on the fly.\u001b[39;00m\n\u001b[1;32m      4\u001b[0m eodc \u001b[38;5;241m=\u001b[39m Client\u001b[38;5;241m.\u001b[39mopen(\n\u001b[1;32m      5\u001b[0m   \u001b[38;5;124m\"\u001b[39m\u001b[38;5;124mhttps://stac.eodc.eu/api/v1\u001b[39m\u001b[38;5;124m\"\u001b[39m,\n\u001b[0;32m----> 6\u001b[0m   modifier\u001b[38;5;241m=\u001b[39m\u001b[43mstac_rucio\u001b[49m\u001b[38;5;241m.\u001b[39mrucio_item\n\u001b[1;32m      7\u001b[0m )\n",
      "\u001b[0;31mNameError\u001b[0m: name 'stac_rucio' is not defined"
     ]
    }
   ],
   "source": [
    "from pystac_client import Client\n",
    "\n",
    "# STAC client connection, with a modifier for updating items on the fly.\n",
    "eodc = Client.open(\n",
    "  \"https://stac.eodc.eu/api/v1\",\n",
    "  modifier=stac_rucio.rucio_item\n",
    ")"
   ]
  },
  {
   "cell_type": "code",
   "execution_count": 1,
   "metadata": {},
   "outputs": [],
   "source": [
    "# For the demo we'll define a single aoi, but two different time periods.\n",
    "aoi = {\n",
    "  \"type\": \"Polygon\",\n",
    "  \"coordinates\": [\n",
    "    [\n",
    "      [9.184570312500002, 43.628123412124616],\n",
    "      [25.543212890625004, 43.628123412124616],\n",
    "      [25.543212890625004, 49.830896288288976],\n",
    "      [9.184570312500002, 49.830896288288976],\n",
    "      [9.184570312500002, 43.628123412124616]\n",
    "    ]\n",
    "  ]\n",
    "}\n",
    "\n",
    "december = {\"interval\": [\"2022-12-01T00:00:00Z\", \"2022-12-31T00:00:00Z\"]}\n",
    "november = {\"interval\": [\"2022-11-01T00:00:00Z\", \"2022-11-30T00:00:00Z\"]}"
   ]
  },
  {
   "cell_type": "code",
   "execution_count": 4,
   "metadata": {},
   "outputs": [],
   "source": [
    "# The SENTINEL2_MFCOVER collection at EODC was duplicated with additional metadata for experimenting with the STAC Rucio integration.\n",
    "\n",
    "items_december = eodc.search(filter_lang=\"cql2-json\", filter={\n",
    "  \"op\": \"and\",\n",
    "  \"args\": [\n",
    "    {\"op\": \"s_intersects\", \"args\": [{\"property\": \"geometry\"}, aoi]},\n",
    "    {\"op\": \"anyinteracts\", \"args\": [{\"property\": \"datetime\"}, december]},\n",
    "    {\"op\": \"=\", \"args\": [{\"property\": \"collection\"}, \"RUCIO_SENTINEL2_MFCOVER\"]}\n",
    "  ]}\n",
    ")\n",
    "\n",
    "items_november = eodc.search(filter_lang=\"cql2-json\", filter={\n",
    "  \"op\": \"and\",\n",
    "  \"args\": [\n",
    "    {\"op\": \"s_intersects\", \"args\": [{\"property\": \"geometry\"}, aoi]},\n",
    "    {\"op\": \"anyinteracts\", \"args\": [{\"property\": \"datetime\"}, november]},\n",
    "    {\"op\": \"=\", \"args\": [{\"property\": \"collection\"}, \"RUCIO_SENTINEL2_MFCOVER\"]}\n",
    "  ]}\n",
    ")"
   ]
  },
  {
   "cell_type": "code",
   "execution_count": null,
   "metadata": {},
   "outputs": [],
   "source": [
    "december_list = [ item for item in items_december.items() ]\n",
    "december_list[0]"
   ]
  },
  {
   "cell_type": "code",
   "execution_count": null,
   "metadata": {},
   "outputs": [],
   "source": [
    "november_list = [ item for item in items_november.items() ]\n",
    "november_list[0]"
   ]
  },
  {
   "cell_type": "code",
   "execution_count": null,
   "metadata": {},
   "outputs": [],
   "source": [
    "# Create replicas carries out the initial registration of the target asset at the specified RSE.\n",
    "stac_rucio.create_replicas(items=november_list, rse=\"EODC-DATA\", target=\"mfcover\")"
   ]
  },
  {
   "cell_type": "code",
   "execution_count": null,
   "metadata": {},
   "outputs": [],
   "source": [
    "# Create replication rules generates the rules that instruct rucio that a request has been made to copy data from one RSE to another.\n",
    "stac_rucio.create_replication_rules(items=november_list, dst_rse=\"DESY-DCACHE\")"
   ]
  },
  {
   "cell_type": "code",
   "execution_count": null,
   "metadata": {},
   "outputs": [],
   "source": [
    "# Availability gets the total number of rules for an item list, and the sum of each state.\n",
    "stac_rucio.replication_availability(items=november_list, rse=\"DESY-DCACHE\")"
   ]
  },
  {
   "cell_type": "code",
   "execution_count": null,
   "metadata": {},
   "outputs": [],
   "source": [
    "stac_rucio.replication_availability(items=december_list, rse=\"DESY-DCACHE\")"
   ]
  },
  {
   "cell_type": "code",
   "execution_count": null,
   "metadata": {},
   "outputs": [],
   "source": [
    "stac_rucio.download_available(items=december_list[:2], rse=\"DESY-DCACHE\")"
   ]
  }
 ],
 "metadata": {
  "kernelspec": {
   "display_name": ".venv",
   "language": "python",
   "name": "python3"
  },
  "language_info": {
   "codemirror_mode": {
    "name": "ipython",
    "version": 3
   },
   "file_extension": ".py",
   "mimetype": "text/x-python",
   "name": "python",
   "nbconvert_exporter": "python",
   "pygments_lexer": "ipython3",
   "version": "3.11.6"
  }
 },
 "nbformat": 4,
 "nbformat_minor": 2
}
